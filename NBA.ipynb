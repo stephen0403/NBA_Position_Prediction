{
 "cells": [
  {
   "cell_type": "code",
   "execution_count": 169,
   "id": "14239f14",
   "metadata": {},
   "outputs": [],
   "source": [
    "import numpy as np\n",
    "import pandas as pd\n",
    "import matplotlib.pyplot as plt\n",
    "from matplotlib.pyplot import figure\n",
    "from sklearn.neighbors import KNeighborsClassifier\n",
    "from basketball_reference_scraper.players import get_stats"
   ]
  },
  {
   "cell_type": "code",
   "execution_count": 170,
   "id": "56d1d9ba",
   "metadata": {},
   "outputs": [
    {
     "name": "stdout",
     "output_type": "stream",
     "text": [
      "14\n",
      "14\n",
      "14\n"
     ]
    }
   ],
   "source": [
    "POSITION_TYPES = ['CENTER', 'GUARD', 'FORWARD']\n",
    "# Centers\n",
    "centers=[\n",
    "    'nikola jokic',\n",
    "    'joel embiid',\n",
    "    'anthony davis',\n",
    "    'andre drummond',\n",
    "    'karl anthony towns',\n",
    "    'bam adebayo',\n",
    "    'nikola vucevic',\n",
    "    'yao ming',\n",
    "    'rudy gobert',\n",
    "    'myles turner',\n",
    "    'hakeem olajuwon',\n",
    "    'deandre ayton',\n",
    "    'domantas sabonis',\n",
    "    'jarrett allen'\n",
    "]\n",
    "# Guards\n",
    "guards=[\n",
    "    'damian lillard',\n",
    "    'stephen curry',\n",
    "    'luka doncic',\n",
    "    'jamal murray',\n",
    "    'james harden',\n",
    "    'fred vanvleet',\n",
    "    'trae young',\n",
    "    'allen iverson',\n",
    "    'jason kidd',\n",
    "    'steve nash',\n",
    "    'chris paul',\n",
    "    'luka doncic',\n",
    "    'ja morant',\n",
    "    'ben simmons'\n",
    "]\n",
    "# Forwards\n",
    "forwards=[\n",
    "    'giannis antetokounmpo',\n",
    "    'draymond green',\n",
    "    'pascal siakam',\n",
    "    'zion williamson',\n",
    "    'kevin durant',\n",
    "    'jimmy butler',\n",
    "    'kawhi leonard',\n",
    "    'pau gasol',\n",
    "    'dennis rodman',\n",
    "    'scottie pippen',\n",
    "    'jayson tatum',\n",
    "    'paul george',\n",
    "    'julius randle',\n",
    "    'tim duncan',\n",
    "]\n",
    "print(len(centers))\n",
    "print(len(guards))\n",
    "print(len(forwards))"
   ]
  },
  {
   "cell_type": "code",
   "execution_count": 171,
   "id": "878c6be5",
   "metadata": {},
   "outputs": [],
   "source": [
    "def fetch_player_career(player):\n",
    "    career = get_stats(player, stat_type='PER_GAME', playoffs=False, career=False, ask_matches=False)\n",
    "    \n",
    "    # Drop rows containing 'Did Not Play' by only returning rows with digits in the \"Games Played\" field\n",
    "    career_stats = career[career['G'].apply(lambda x: str(x).replace('.','').isdigit())]\n",
    "    \n",
    "    return career_stats\n",
    "\n",
    "def extract_stats(career_stats):\n",
    "    '''\n",
    "    extract_stats() takes a player's stats and returns a numpy array of [PTS, AST, TRB, STL, BLK]\n",
    "    '''\n",
    "    total_seasons = len(career_stats)\n",
    "    ## we take 'per game average' to avoid reporting \n",
    "    career_ppg = (sum(career_stats['PTS'].astype(float)) / total_seasons)\n",
    "    career_ast = (sum(career_stats['AST'].astype(float)) / total_seasons)\n",
    "    career_trb = (sum(career_stats['TRB'].astype(float)) / total_seasons)\n",
    "    career_stl = (sum(career_stats['STL'].astype(float)) / total_seasons)\n",
    "    career_blk = (sum(career_stats['BLK'].astype(float)) / total_seasons)\n",
    "    \n",
    "    return np.array([career_ppg, career_ast, career_trb, career_stl, career_blk])\n",
    "    \n",
    "def predict_position(stats, clf):    \n",
    "    position_id = clf.predict(stats)[0]\n",
    "    position = POSITION_TYPES[position_id]\n",
    "    return position"
   ]
  },
  {
   "cell_type": "code",
   "execution_count": 172,
   "id": "f8d7f23e",
   "metadata": {},
   "outputs": [
    {
     "name": "stdout",
     "output_type": "stream",
     "text": [
      "nikola jokic\n",
      "joel embiid\n",
      "anthony davis\n",
      "andre drummond\n",
      "karl anthony towns\n",
      "bam adebayo\n",
      "nikola vucevic\n",
      "yao ming\n",
      "rudy gobert\n",
      "myles turner\n",
      "hakeem olajuwon\n",
      "deandre ayton\n",
      "domantas sabonis\n",
      "jarrett allen\n",
      "damian lillard\n",
      "stephen curry\n",
      "luka doncic\n",
      "jamal murray\n",
      "james harden\n",
      "fred vanvleet\n",
      "trae young\n",
      "allen iverson\n",
      "jason kidd\n",
      "steve nash\n",
      "chris paul\n",
      "luka doncic\n",
      "ja morant\n",
      "ben simmons\n",
      "giannis antetokounmpo\n",
      "draymond green\n",
      "pascal siakam\n",
      "zion williamson\n",
      "kevin durant\n",
      "jimmy butler\n",
      "kawhi leonard\n",
      "pau gasol\n",
      "dennis rodman\n",
      "scottie pippen\n",
      "jayson tatum\n",
      "paul george\n",
      "julius randle\n",
      "tim duncan\n"
     ]
    }
   ],
   "source": [
    "careers = []\n",
    "nba_players = centers + guards + forwards\n",
    "for player in nba_players:\n",
    "    print(player)\n",
    "    careers.append(fetch_player_career(player))"
   ]
  },
  {
   "cell_type": "code",
   "execution_count": 213,
   "id": "68f138ba",
   "metadata": {},
   "outputs": [
    {
     "data": {
      "text/plain": [
       "KNeighborsClassifier()"
      ]
     },
     "execution_count": 213,
     "metadata": {},
     "output_type": "execute_result"
    }
   ],
   "source": [
    "X_train = np.zeros((42,5))\n",
    "for i in range(len(careers)):\n",
    "    X_train[i] = extract_stats(careers[i])\n",
    "    \n",
    "y_train = np.array([0]*14 + [1]*14 + [2]*14)\n",
    "\n",
    "#k = 5 => sqrt 42 = 6.5, however after testing multiple k, 5 returns highest accuracy (also keeping it odd so there are no ties)\n",
    "clf = KNeighborsClassifier(n_neighbors=5)\n",
    "clf.fit(X_train, y_train)"
   ]
  },
  {
   "cell_type": "code",
   "execution_count": 214,
   "id": "e1852f60",
   "metadata": {},
   "outputs": [],
   "source": [
    "more_players = [\n",
    "    'michael jordan', # 1\n",
    "    'dikembe mutombo',  # 0\n",
    "    'russell westbrook',  # 1\n",
    "    'larry bird',  # 2\n",
    "    'john stockton',  # 1\n",
    "    'steven adams',  # 0\n",
    "    'lamarcus aldridge',  # 2\n",
    "    'demarcus cousins',  # 0\n",
    "    'kyrie irving',  # 1\n",
    "    'christian wood',  # 0\n",
    "    'khris middleton',  # 2\n",
    "    'devin booker',  # 1\n",
    "    'kyle lowry',  # 1\n",
    "    'dirk nowitzki',  # 2\n",
    "    'carmelo anthony',  # 2\n",
    "    'andrew wiggins',  # 2\n",
    "    'lebron james', # 2\n",
    "    \"al horford\",  # 2\n",
    "    'lonzo ball', # 1\n",
    "    'magic johnson', # 1\n",
    "    'mitchell robinson' # 0\n",
    "]\n",
    "\n",
    "X_test = np.zeros((len(more_players),5))\n",
    "\n",
    "for i in range(len(more_players)):\n",
    "    all_career_stats = fetch_player_career(more_players[i])\n",
    "    stats = extract_stats(all_career_stats).reshape(1,-1)\n",
    "    X_test[i] = (stats)\n",
    "\n",
    "y_test = [1, 0, 1, 2, 1, 0, 2, 0, 1, 0, 2, 1, 1, 2, 2, 2, 2, 2, 1, 1, 0]"
   ]
  },
  {
   "cell_type": "code",
   "execution_count": 215,
   "id": "058d7991",
   "metadata": {},
   "outputs": [
    {
     "name": "stdout",
     "output_type": "stream",
     "text": [
      "I think michael jordan is a GUARD. He played GUARD in his career\n",
      "I think dikembe mutombo is a CENTER. He played CENTER in his career\n",
      "I think russell westbrook is a GUARD. He played GUARD in his career\n",
      "I think larry bird is a CENTER. He played FORWARD in his career\n",
      "I think john stockton is a GUARD. He played GUARD in his career\n",
      "I think steven adams is a CENTER. He played CENTER in his career\n",
      "I think lamarcus aldridge is a FORWARD. He played FORWARD in his career\n",
      "I think demarcus cousins is a CENTER. He played CENTER in his career\n",
      "I think kyrie irving is a GUARD. He played GUARD in his career\n",
      "I think christian wood is a CENTER. He played CENTER in his career\n",
      "I think khris middleton is a FORWARD. He played FORWARD in his career\n",
      "I think devin booker is a GUARD. He played GUARD in his career\n",
      "I think kyle lowry is a GUARD. He played GUARD in his career\n",
      "I think dirk nowitzki is a FORWARD. He played FORWARD in his career\n",
      "I think carmelo anthony is a FORWARD. He played FORWARD in his career\n",
      "I think andrew wiggins is a FORWARD. He played FORWARD in his career\n",
      "I think lebron james is a GUARD. He played FORWARD in his career\n",
      "I think al horford is a FORWARD. He played FORWARD in his career\n",
      "I think lonzo ball is a GUARD. He played GUARD in his career\n",
      "I think magic johnson is a GUARD. He played GUARD in his career\n",
      "I think mitchell robinson is a CENTER. He played CENTER in his career\n"
     ]
    }
   ],
   "source": [
    "correct_pred = 0\n",
    "\n",
    "for p in range(len(X_test)):\n",
    "    predicted_position = predict_position(X_test[p].reshape(1,-1), clf)\n",
    "    actual_position = POSITION_TYPES[y_test[p]]\n",
    "\n",
    "    if predicted_position == actual_position:\n",
    "        correct_pred += 1\n",
    "\n",
    "    print(f'I think {more_players[p]} is a {predicted_position}. He played {actual_position} in his career')"
   ]
  },
  {
   "cell_type": "code",
   "execution_count": 216,
   "id": "3cb5ff74",
   "metadata": {},
   "outputs": [
    {
     "name": "stdout",
     "output_type": "stream",
     "text": [
      "90.47619047619048% accuracy\n"
     ]
    }
   ],
   "source": [
    "print(f'{100*(correct_pred / len(y_test))}% accuracy')"
   ]
  },
  {
   "cell_type": "code",
   "execution_count": 217,
   "id": "47886331",
   "metadata": {},
   "outputs": [
    {
     "name": "stdout",
     "output_type": "stream",
     "text": [
      "    offensive_plays  non_scoring_plays             player\n",
      "0        151.390133          11.696000     michael jordan\n",
      "1          8.558700           9.618750    dikembe mutombo\n",
      "2        192.616071           4.050498  russell westbrook\n",
      "3        149.149349          13.367061         larry bird\n",
      "4        136.283186           1.318587      john stockton\n",
      "5         14.122840           6.775361       steven adams\n",
      "6         34.860648           5.702524  lamarcus aldridge\n",
      "7         49.842561          10.886345   demarcus cousins\n",
      "8        135.074876           2.215050       kyrie irving\n",
      "9          9.158750           1.885453     christian wood\n",
      "10        59.805200           0.948787    khris middleton\n",
      "11       112.404898           0.952945       devin booker\n",
      "12        81.458765           1.487791         kyle lowry\n",
      "13        47.017982           4.728468      dirk nowitzki\n",
      "14        59.550612           3.118356    carmelo anthony\n",
      "15        52.046000           3.538094     andrew wiggins\n",
      "16       199.761773           8.734488       lebron james\n",
      "17        44.830933           7.854361         al horford\n",
      "18        72.352000           5.943960         lonzo ball\n",
      "19       211.739645           5.728473      magic johnson\n",
      "20         4.647500          13.037063  mitchell robinson\n"
     ]
    },
    {
     "data": {
      "image/png": "[encoded data removed]",
      "text/plain": [
       "<Figure size 576x576 with 1 Axes>"
      ]
     },
     "metadata": {
      "needs_background": "light"
     },
     "output_type": "display_data"
    }
   ],
   "source": [
    "offensive_plays = np.array([X_test[:,0]*X_test[:,1]]).reshape(-1,1)  # points * assists\n",
    "non_scoring_plays = np.array([X_test[:,2]*X_test[:,3]*X_test[:,4]]).reshape(-1,1)  # rebounds * blocks * steals\n",
    "plot_2d = np.concatenate((offensive_plays, non_scoring_plays), axis=1)\n",
    "\n",
    "# Constructing a dataframe for offensive_plays, non_scoring_plays, player, and position\n",
    "df = pd.DataFrame(plot_2d, columns = ['offensive_plays','non_scoring_plays'])\n",
    "df['player'] = more_players\n",
    "L = [POSITION_TYPES[i] for i in y_test]\n",
    "print(df)\n",
    "df['position'] = L\n",
    "\n",
    "fig, ax = plt.subplots()\n",
    "\n",
    "# Color-coded scatter plot for non_scoring_plays vs offensive_plays\n",
    "colors = {'GUARD':'red', 'CENTER':'green', 'FORWARD':'blue'}\n",
    "ax.scatter(df['offensive_plays'], df['non_scoring_plays'], c=df['position'].map(colors))\n",
    "plt.gcf().set_size_inches((8, 8))\n",
    "\n",
    "# Add players names to their plotted points\n",
    "for i in range(len(df)):\n",
    "    plt.annotate(df['player'][i], ((df['offensive_plays'][i], df['non_scoring_plays'][i]+.2)))\n",
    "\n",
    "# Labeling title and axes and legend\n",
    "plt.title(\"NBA Positions Visualized\")\n",
    "plt.xlabel(\"(Points) * (Assist)\")\n",
    "plt.ylabel(\"(Rebounds) * (Steals) * (Blocks)\")\n",
    "plt.show()"
   ]
  },
  {
   "cell_type": "code",
   "execution_count": null,
   "id": "2365aa63",
   "metadata": {},
   "outputs": [],
   "source": []
  }
 ],
 "metadata": {
  "kernelspec": {
   "display_name": "Python 3 (ipykernel)",
   "language": "python",
   "name": "python3"
  },
  "language_info": {
   "codemirror_mode": {
    "name": "ipython",
    "version": 3
   },
   "file_extension": ".py",
   "mimetype": "text/x-python",
   "name": "python",
   "nbconvert_exporter": "python",
   "pygments_lexer": "ipython3",
   "version": "3.8.12"
  }
 },
 "nbformat": 4,
 "nbformat_minor": 5
}
